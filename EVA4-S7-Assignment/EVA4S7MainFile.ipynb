{
  "nbformat": 4,
  "nbformat_minor": 0,
  "metadata": {
    "colab": {
      "name": "EVA4S7MainFile.ipynb",
      "provenance": [],
      "collapsed_sections": [],
      "toc_visible": true,
      "mount_file_id": "1fFnfRu_qld6Q8VdKGVGMQ_Trw_f8MkSb",
      "authorship_tag": "ABX9TyOv/w8Am3f7k4q5NXxvVZlu",
      "include_colab_link": true
    },
    "kernelspec": {
      "name": "python3",
      "display_name": "Python 3"
    },
    "accelerator": "GPU"
  },
  "cells": [
    {
      "cell_type": "markdown",
      "metadata": {
        "id": "view-in-github",
        "colab_type": "text"
      },
      "source": [
        "<a href=\"https://colab.research.google.com/github/rsha0812/EVA4-S7-Assignment-7/blob/master/EVA4S7MainFile.ipynb\" target=\"_parent\"><img src=\"https://colab.research.google.com/assets/colab-badge.svg\" alt=\"Open In Colab\"/></a>"
      ]
    },
    {
      "cell_type": "code",
      "metadata": {
        "id": "F0WPqzhvGV03",
        "colab_type": "code",
        "outputId": "34d7a49c-c680-4bc3-c2bb-27328af38dae",
        "colab": {
          "base_uri": "https://localhost:8080/",
          "height": 34
        }
      },
      "source": [
        "%matplotlib inline\n",
        "!pip install torchsummary\n",
        "import torch\n",
        "import torchvision\n",
        "import torchvision.transforms as transforms\n",
        "import matplotlib.pyplot as plt\n",
        "import numpy as np\n",
        "import argparse\n",
        "import os\n",
        "import pandas as pd\n",
        "import random\n",
        "import torch.backends.cudnn as cudnn\n",
        "import torch.utils.data"
      ],
      "execution_count": 0,
      "outputs": [
        {
          "output_type": "stream",
          "text": [
            "Requirement already satisfied: torchsummary in /usr/local/lib/python3.6/dist-packages (1.5.1)\n"
          ],
          "name": "stdout"
        }
      ]
    },
    {
      "cell_type": "code",
      "metadata": {
        "id": "52OvuAcANAIY",
        "colab_type": "code",
        "outputId": "03dc6dec-6032-4331-d9bd-5bfe764fc76f",
        "colab": {
          "base_uri": "https://localhost:8080/",
          "height": 50
        }
      },
      "source": [
        "from datafile import *\n",
        "trainloader, testloader, classes = getData()"
      ],
      "execution_count": 0,
      "outputs": [
        {
          "output_type": "stream",
          "text": [
            "Files already downloaded and verified\n",
            "Files already downloaded and verified\n"
          ],
          "name": "stdout"
        }
      ]
    },
    {
      "cell_type": "markdown",
      "metadata": {
        "id": "qtxra9PPWfWE",
        "colab_type": "text"
      },
      "source": [
        "# **Define Model**"
      ]
    },
    {
      "cell_type": "code",
      "metadata": {
        "id": "s-gjDOTmNF-Y",
        "colab_type": "code",
        "colab": {}
      },
      "source": [
        "import torch.nn as nn\n",
        "import torch.nn.functional as F\n",
        "from model1 import *\n",
        "class Net(nn.Module):\n",
        "    def __init__(self):\n",
        "        super(Net, self).__init__() \n",
        "        self.model = nn.Sequential(Conv2d_BN(3,32),# output_size = 32, Ni = 30; rf = 1\n",
        "                                  Conv2d_BN(32,56),# output_size = 30; rf = 1\n",
        "                                  Maxpooling(2),# output_size = 15; rf = 2\n",
        "                                  Conv2d_BN(56,64),# output_size = 13; rf = 6\n",
        "                                  Conv2d_BN(64,96),# output_size = 13; rf = 6\n",
        "                                  Maxpooling(2),# output_size = 7; rf = 8\n",
        "                                  DepthwiseConv2d(96,128),# output_size = 5; rf = 16\n",
        "                                  PointwiseConv2d(128,256),# output_size = 5; rf = 16\n",
        "                                  Maxpooling(2),# output_size = 5; rf = 20\n",
        "                                  DilationConv2d(256,364),# output_size = 1; rf = 52\n",
        "                                  gap(2),# output_size = 1; rf = 60\n",
        "                                  Conv1d(364,10),# output_size = 1; rf = 60\n",
        "       )\n",
        "\n",
        "    def forward(self,x):\n",
        "      x = self.model(x)\n",
        "      x=x.view(-1,10)\n",
        "      return F.log_softmax(x, dim= -1)"
      ],
      "execution_count": 0,
      "outputs": []
    },
    {
      "cell_type": "markdown",
      "metadata": {
        "id": "0mM6M4xOhon5",
        "colab_type": "text"
      },
      "source": [
        "# Summary"
      ]
    },
    {
      "cell_type": "code",
      "metadata": {
        "id": "o5Y3czvCh44L",
        "colab_type": "code",
        "outputId": "03556616-53ef-4142-91e7-ded1031748c2",
        "colab": {
          "base_uri": "https://localhost:8080/",
          "height": 538
        }
      },
      "source": [
        "!pip install torchsummary\n",
        "from torchsummary import summary\n",
        "use_cuda = torch.cuda.is_available()\n",
        "device = torch.device(\"cuda\" if use_cuda else \"cpu\")\n",
        "print(device)\n",
        "model = Net().to(device)\n",
        "summary(model, input_size=(3, 32, 32))"
      ],
      "execution_count": 0,
      "outputs": [
        {
          "output_type": "stream",
          "text": [
            "Requirement already satisfied: torchsummary in /usr/local/lib/python3.6/dist-packages (1.5.1)\n",
            "cuda\n",
            "----------------------------------------------------------------\n",
            "        Layer (type)               Output Shape         Param #\n",
            "================================================================\n",
            "            Conv2d-1           [-1, 32, 32, 32]              96\n",
            "            Conv2d-2           [-1, 56, 32, 32]           1,792\n",
            "         MaxPool2d-3           [-1, 56, 16, 16]               0\n",
            "            Conv2d-4           [-1, 64, 16, 16]           3,584\n",
            "            Conv2d-5           [-1, 96, 16, 16]           6,144\n",
            "         MaxPool2d-6             [-1, 96, 8, 8]               0\n",
            "            Conv2d-7            [-1, 128, 6, 6]         110,592\n",
            "            Conv2d-8            [-1, 256, 6, 6]          32,768\n",
            "              ReLU-9            [-1, 256, 6, 6]               0\n",
            "      BatchNorm2d-10            [-1, 256, 6, 6]             512\n",
            "        MaxPool2d-11            [-1, 256, 3, 3]               0\n",
            "           Conv2d-12            [-1, 364, 3, 3]         838,656\n",
            "             ReLU-13            [-1, 364, 3, 3]               0\n",
            "      BatchNorm2d-14            [-1, 364, 3, 3]             728\n",
            "        AvgPool2d-15            [-1, 364, 1, 1]               0\n",
            "           Conv1d-16             [-1, 10, 1, 1]           3,640\n",
            "================================================================\n",
            "Total params: 998,512\n",
            "Trainable params: 998,512\n",
            "Non-trainable params: 0\n",
            "----------------------------------------------------------------\n",
            "Input size (MB): 0.01\n",
            "Forward/backward pass size (MB): 1.50\n",
            "Params size (MB): 3.81\n",
            "Estimated Total Size (MB): 5.32\n",
            "----------------------------------------------------------------\n"
          ],
          "name": "stdout"
        }
      ]
    },
    {
      "cell_type": "markdown",
      "metadata": {
        "id": "ddPp4p8cxzFr",
        "colab_type": "text"
      },
      "source": [
        "# Training"
      ]
    },
    {
      "cell_type": "code",
      "metadata": {
        "id": "YYCrt_fXx5j2",
        "colab_type": "code",
        "outputId": "153dd1dc-b119-4f6d-c14a-79e4722571f5",
        "colab": {
          "base_uri": "https://localhost:8080/",
          "height": 1000
        }
      },
      "source": [
        "from trainingfile import *\n",
        "Training(50, model, device, trainloader, testloader)\n",
        "ClassTestAccuracy(testloader, device, model, classes)"
      ],
      "execution_count": 0,
      "outputs": [
        {
          "output_type": "stream",
          "text": [
            "\r  0%|          | 0/391 [00:00<?, ?it/s]"
          ],
          "name": "stderr"
        },
        {
          "output_type": "stream",
          "text": [
            "EPOCH: 0\n"
          ],
          "name": "stdout"
        },
        {
          "output_type": "stream",
          "text": [
            "Loss=1.2903608083724976 Batch_id=390 Accuracy=44.57: 100%|██████████| 391/391 [00:29<00:00, 14.82it/s]\n",
            "  0%|          | 0/391 [00:00<?, ?it/s]"
          ],
          "name": "stderr"
        },
        {
          "output_type": "stream",
          "text": [
            "\n",
            "Test set: Average loss: 1.2759, Accuracy: 5511/10000 (55.11%)\n",
            "\n",
            "EPOCH: 1\n"
          ],
          "name": "stdout"
        },
        {
          "output_type": "stream",
          "text": [
            "Loss=1.2258126735687256 Batch_id=390 Accuracy=54.56: 100%|██████████| 391/391 [00:29<00:00, 13.30it/s]\n",
            "  0%|          | 0/391 [00:00<?, ?it/s]"
          ],
          "name": "stderr"
        },
        {
          "output_type": "stream",
          "text": [
            "\n",
            "Test set: Average loss: 1.1842, Accuracy: 5860/10000 (58.60%)\n",
            "\n",
            "EPOCH: 2\n"
          ],
          "name": "stdout"
        },
        {
          "output_type": "stream",
          "text": [
            "Loss=1.0112191438674927 Batch_id=390 Accuracy=58.82: 100%|██████████| 391/391 [00:29<00:00, 13.27it/s]\n",
            "  0%|          | 0/391 [00:00<?, ?it/s]"
          ],
          "name": "stderr"
        },
        {
          "output_type": "stream",
          "text": [
            "\n",
            "Test set: Average loss: 1.1109, Accuracy: 6186/10000 (61.86%)\n",
            "\n",
            "EPOCH: 3\n"
          ],
          "name": "stdout"
        },
        {
          "output_type": "stream",
          "text": [
            "Loss=0.9901547431945801 Batch_id=390 Accuracy=61.20: 100%|██████████| 391/391 [00:29<00:00, 13.31it/s]\n",
            "  0%|          | 0/391 [00:00<?, ?it/s]"
          ],
          "name": "stderr"
        },
        {
          "output_type": "stream",
          "text": [
            "\n",
            "Test set: Average loss: 1.0896, Accuracy: 6218/10000 (62.18%)\n",
            "\n",
            "EPOCH: 4\n"
          ],
          "name": "stdout"
        },
        {
          "output_type": "stream",
          "text": [
            "Loss=1.0493128299713135 Batch_id=390 Accuracy=62.89: 100%|██████████| 391/391 [00:29<00:00, 13.28it/s]\n",
            "  0%|          | 0/391 [00:00<?, ?it/s]"
          ],
          "name": "stderr"
        },
        {
          "output_type": "stream",
          "text": [
            "\n",
            "Test set: Average loss: 0.9698, Accuracy: 6649/10000 (66.49%)\n",
            "\n",
            "EPOCH: 5\n"
          ],
          "name": "stdout"
        },
        {
          "output_type": "stream",
          "text": [
            "Loss=1.0616164207458496 Batch_id=390 Accuracy=64.80: 100%|██████████| 391/391 [00:29<00:00, 13.20it/s]\n",
            "  0%|          | 0/391 [00:00<?, ?it/s]"
          ],
          "name": "stderr"
        },
        {
          "output_type": "stream",
          "text": [
            "\n",
            "Test set: Average loss: 0.9995, Accuracy: 6554/10000 (65.54%)\n",
            "\n",
            "EPOCH: 6\n"
          ],
          "name": "stdout"
        },
        {
          "output_type": "stream",
          "text": [
            "Loss=0.9298101663589478 Batch_id=390 Accuracy=68.76: 100%|██████████| 391/391 [00:29<00:00, 13.36it/s]\n",
            "  0%|          | 0/391 [00:00<?, ?it/s]"
          ],
          "name": "stderr"
        },
        {
          "output_type": "stream",
          "text": [
            "\n",
            "Test set: Average loss: 0.8690, Accuracy: 6961/10000 (69.61%)\n",
            "\n",
            "EPOCH: 7\n"
          ],
          "name": "stdout"
        },
        {
          "output_type": "stream",
          "text": [
            "Loss=0.7979322671890259 Batch_id=390 Accuracy=69.95: 100%|██████████| 391/391 [00:29<00:00, 14.22it/s]\n",
            "  0%|          | 0/391 [00:00<?, ?it/s]"
          ],
          "name": "stderr"
        },
        {
          "output_type": "stream",
          "text": [
            "\n",
            "Test set: Average loss: 0.8600, Accuracy: 7024/10000 (70.24%)\n",
            "\n",
            "EPOCH: 8\n"
          ],
          "name": "stdout"
        },
        {
          "output_type": "stream",
          "text": [
            "Loss=0.955671489238739 Batch_id=390 Accuracy=70.20: 100%|██████████| 391/391 [00:29<00:00, 13.37it/s]\n",
            "  0%|          | 0/391 [00:00<?, ?it/s]"
          ],
          "name": "stderr"
        },
        {
          "output_type": "stream",
          "text": [
            "\n",
            "Test set: Average loss: 0.8506, Accuracy: 7081/10000 (70.81%)\n",
            "\n",
            "EPOCH: 9\n"
          ],
          "name": "stdout"
        },
        {
          "output_type": "stream",
          "text": [
            "Loss=0.6305984258651733 Batch_id=390 Accuracy=70.56: 100%|██████████| 391/391 [00:29<00:00, 13.32it/s]\n",
            "  0%|          | 0/391 [00:00<?, ?it/s]"
          ],
          "name": "stderr"
        },
        {
          "output_type": "stream",
          "text": [
            "\n",
            "Test set: Average loss: 0.8449, Accuracy: 7097/10000 (70.97%)\n",
            "\n",
            "EPOCH: 10\n"
          ],
          "name": "stdout"
        },
        {
          "output_type": "stream",
          "text": [
            "Loss=0.6867772340774536 Batch_id=390 Accuracy=71.11: 100%|██████████| 391/391 [00:29<00:00, 13.25it/s]\n",
            "  0%|          | 0/391 [00:00<?, ?it/s]"
          ],
          "name": "stderr"
        },
        {
          "output_type": "stream",
          "text": [
            "\n",
            "Test set: Average loss: 0.8438, Accuracy: 7058/10000 (70.58%)\n",
            "\n",
            "EPOCH: 11\n"
          ],
          "name": "stdout"
        },
        {
          "output_type": "stream",
          "text": [
            "Loss=0.7370280027389526 Batch_id=390 Accuracy=71.26: 100%|██████████| 391/391 [00:29<00:00, 13.27it/s]\n",
            "  0%|          | 0/391 [00:00<?, ?it/s]"
          ],
          "name": "stderr"
        },
        {
          "output_type": "stream",
          "text": [
            "\n",
            "Test set: Average loss: 0.8439, Accuracy: 7074/10000 (70.74%)\n",
            "\n",
            "EPOCH: 12\n"
          ],
          "name": "stdout"
        },
        {
          "output_type": "stream",
          "text": [
            "Loss=0.6830375790596008 Batch_id=390 Accuracy=71.95: 100%|██████████| 391/391 [00:29<00:00, 13.39it/s]\n",
            "  0%|          | 0/391 [00:00<?, ?it/s]"
          ],
          "name": "stderr"
        },
        {
          "output_type": "stream",
          "text": [
            "\n",
            "Test set: Average loss: 0.8351, Accuracy: 7122/10000 (71.22%)\n",
            "\n",
            "EPOCH: 13\n"
          ],
          "name": "stdout"
        },
        {
          "output_type": "stream",
          "text": [
            "Loss=0.831479549407959 Batch_id=390 Accuracy=71.90: 100%|██████████| 391/391 [00:29<00:00, 13.28it/s]\n",
            "  0%|          | 0/391 [00:00<?, ?it/s]"
          ],
          "name": "stderr"
        },
        {
          "output_type": "stream",
          "text": [
            "\n",
            "Test set: Average loss: 0.8342, Accuracy: 7128/10000 (71.28%)\n",
            "\n",
            "EPOCH: 14\n"
          ],
          "name": "stdout"
        },
        {
          "output_type": "stream",
          "text": [
            "Loss=0.9622398614883423 Batch_id=390 Accuracy=72.05: 100%|██████████| 391/391 [00:29<00:00, 14.95it/s]\n",
            "  0%|          | 0/391 [00:00<?, ?it/s]"
          ],
          "name": "stderr"
        },
        {
          "output_type": "stream",
          "text": [
            "\n",
            "Test set: Average loss: 0.8319, Accuracy: 7117/10000 (71.17%)\n",
            "\n",
            "EPOCH: 15\n"
          ],
          "name": "stdout"
        },
        {
          "output_type": "stream",
          "text": [
            "Loss=0.8002365827560425 Batch_id=390 Accuracy=72.03: 100%|██████████| 391/391 [00:29<00:00, 13.22it/s]\n",
            "  0%|          | 0/391 [00:00<?, ?it/s]"
          ],
          "name": "stderr"
        },
        {
          "output_type": "stream",
          "text": [
            "\n",
            "Test set: Average loss: 0.8293, Accuracy: 7117/10000 (71.17%)\n",
            "\n",
            "EPOCH: 16\n"
          ],
          "name": "stdout"
        },
        {
          "output_type": "stream",
          "text": [
            "Loss=1.0034915208816528 Batch_id=390 Accuracy=72.18: 100%|██████████| 391/391 [00:29<00:00, 13.46it/s]\n",
            "  0%|          | 0/391 [00:00<?, ?it/s]"
          ],
          "name": "stderr"
        },
        {
          "output_type": "stream",
          "text": [
            "\n",
            "Test set: Average loss: 0.8302, Accuracy: 7125/10000 (71.25%)\n",
            "\n",
            "EPOCH: 17\n"
          ],
          "name": "stdout"
        },
        {
          "output_type": "stream",
          "text": [
            "Loss=0.9986124038696289 Batch_id=390 Accuracy=72.19: 100%|██████████| 391/391 [00:29<00:00, 13.39it/s]\n",
            "  0%|          | 0/391 [00:00<?, ?it/s]"
          ],
          "name": "stderr"
        },
        {
          "output_type": "stream",
          "text": [
            "\n",
            "Test set: Average loss: 0.8284, Accuracy: 7139/10000 (71.39%)\n",
            "\n",
            "EPOCH: 18\n"
          ],
          "name": "stdout"
        },
        {
          "output_type": "stream",
          "text": [
            "Loss=0.8727057576179504 Batch_id=390 Accuracy=72.47: 100%|██████████| 391/391 [00:29<00:00, 13.40it/s]\n",
            "  0%|          | 0/391 [00:00<?, ?it/s]"
          ],
          "name": "stderr"
        },
        {
          "output_type": "stream",
          "text": [
            "\n",
            "Test set: Average loss: 0.8286, Accuracy: 7138/10000 (71.38%)\n",
            "\n",
            "EPOCH: 19\n"
          ],
          "name": "stdout"
        },
        {
          "output_type": "stream",
          "text": [
            "Loss=0.7598209381103516 Batch_id=390 Accuracy=72.42: 100%|██████████| 391/391 [00:29<00:00, 14.66it/s]\n",
            "  0%|          | 0/391 [00:00<?, ?it/s]"
          ],
          "name": "stderr"
        },
        {
          "output_type": "stream",
          "text": [
            "\n",
            "Test set: Average loss: 0.8284, Accuracy: 7136/10000 (71.36%)\n",
            "\n",
            "EPOCH: 20\n"
          ],
          "name": "stdout"
        },
        {
          "output_type": "stream",
          "text": [
            "Loss=0.6661316156387329 Batch_id=390 Accuracy=72.61: 100%|██████████| 391/391 [00:29<00:00, 14.15it/s]\n",
            "  0%|          | 0/391 [00:00<?, ?it/s]"
          ],
          "name": "stderr"
        },
        {
          "output_type": "stream",
          "text": [
            "\n",
            "Test set: Average loss: 0.8284, Accuracy: 7151/10000 (71.51%)\n",
            "\n",
            "EPOCH: 21\n"
          ],
          "name": "stdout"
        },
        {
          "output_type": "stream",
          "text": [
            "Loss=0.7800594568252563 Batch_id=390 Accuracy=72.22: 100%|██████████| 391/391 [00:29<00:00, 13.42it/s]\n",
            "  0%|          | 0/391 [00:00<?, ?it/s]"
          ],
          "name": "stderr"
        },
        {
          "output_type": "stream",
          "text": [
            "\n",
            "Test set: Average loss: 0.8274, Accuracy: 7144/10000 (71.44%)\n",
            "\n",
            "EPOCH: 22\n"
          ],
          "name": "stdout"
        },
        {
          "output_type": "stream",
          "text": [
            "Loss=0.8493296504020691 Batch_id=390 Accuracy=72.37: 100%|██████████| 391/391 [00:29<00:00, 13.48it/s]\n",
            "  0%|          | 0/391 [00:00<?, ?it/s]"
          ],
          "name": "stderr"
        },
        {
          "output_type": "stream",
          "text": [
            "\n",
            "Test set: Average loss: 0.8282, Accuracy: 7150/10000 (71.50%)\n",
            "\n",
            "EPOCH: 23\n"
          ],
          "name": "stdout"
        },
        {
          "output_type": "stream",
          "text": [
            "Loss=0.95335853099823 Batch_id=390 Accuracy=72.41: 100%|██████████| 391/391 [00:29<00:00, 13.35it/s]\n",
            "  0%|          | 0/391 [00:00<?, ?it/s]"
          ],
          "name": "stderr"
        },
        {
          "output_type": "stream",
          "text": [
            "\n",
            "Test set: Average loss: 0.8282, Accuracy: 7133/10000 (71.33%)\n",
            "\n",
            "EPOCH: 24\n"
          ],
          "name": "stdout"
        },
        {
          "output_type": "stream",
          "text": [
            "Loss=0.8644241094589233 Batch_id=390 Accuracy=72.42: 100%|██████████| 391/391 [00:28<00:00, 13.52it/s]\n",
            "  0%|          | 0/391 [00:00<?, ?it/s]"
          ],
          "name": "stderr"
        },
        {
          "output_type": "stream",
          "text": [
            "\n",
            "Test set: Average loss: 0.8273, Accuracy: 7143/10000 (71.43%)\n",
            "\n",
            "EPOCH: 25\n"
          ],
          "name": "stdout"
        },
        {
          "output_type": "stream",
          "text": [
            "Loss=0.9886566400527954 Batch_id=390 Accuracy=72.39: 100%|██████████| 391/391 [00:28<00:00, 13.53it/s]\n",
            "  0%|          | 0/391 [00:00<?, ?it/s]"
          ],
          "name": "stderr"
        },
        {
          "output_type": "stream",
          "text": [
            "\n",
            "Test set: Average loss: 0.8272, Accuracy: 7158/10000 (71.58%)\n",
            "\n",
            "EPOCH: 26\n"
          ],
          "name": "stdout"
        },
        {
          "output_type": "stream",
          "text": [
            "Loss=0.9272686839103699 Batch_id=390 Accuracy=72.34: 100%|██████████| 391/391 [00:29<00:00, 15.17it/s]\n",
            "  0%|          | 0/391 [00:00<?, ?it/s]"
          ],
          "name": "stderr"
        },
        {
          "output_type": "stream",
          "text": [
            "\n",
            "Test set: Average loss: 0.8272, Accuracy: 7129/10000 (71.29%)\n",
            "\n",
            "EPOCH: 27\n"
          ],
          "name": "stdout"
        },
        {
          "output_type": "stream",
          "text": [
            "Loss=0.8308018445968628 Batch_id=390 Accuracy=72.37: 100%|██████████| 391/391 [00:29<00:00, 13.48it/s]\n",
            "  0%|          | 0/391 [00:00<?, ?it/s]"
          ],
          "name": "stderr"
        },
        {
          "output_type": "stream",
          "text": [
            "\n",
            "Test set: Average loss: 0.8286, Accuracy: 7126/10000 (71.26%)\n",
            "\n",
            "EPOCH: 28\n"
          ],
          "name": "stdout"
        },
        {
          "output_type": "stream",
          "text": [
            "Loss=0.9082779884338379 Batch_id=390 Accuracy=72.47: 100%|██████████| 391/391 [00:29<00:00, 13.47it/s]\n",
            "  0%|          | 0/391 [00:00<?, ?it/s]"
          ],
          "name": "stderr"
        },
        {
          "output_type": "stream",
          "text": [
            "\n",
            "Test set: Average loss: 0.8293, Accuracy: 7134/10000 (71.34%)\n",
            "\n",
            "EPOCH: 29\n"
          ],
          "name": "stdout"
        },
        {
          "output_type": "stream",
          "text": [
            "Loss=0.6145420670509338 Batch_id=390 Accuracy=72.51: 100%|██████████| 391/391 [00:29<00:00, 13.48it/s]\n",
            "  0%|          | 0/391 [00:00<?, ?it/s]"
          ],
          "name": "stderr"
        },
        {
          "output_type": "stream",
          "text": [
            "\n",
            "Test set: Average loss: 0.8279, Accuracy: 7146/10000 (71.46%)\n",
            "\n",
            "EPOCH: 30\n"
          ],
          "name": "stdout"
        },
        {
          "output_type": "stream",
          "text": [
            "Loss=0.6674968004226685 Batch_id=390 Accuracy=72.78: 100%|██████████| 391/391 [00:29<00:00, 13.43it/s]\n",
            "  0%|          | 0/391 [00:00<?, ?it/s]"
          ],
          "name": "stderr"
        },
        {
          "output_type": "stream",
          "text": [
            "\n",
            "Test set: Average loss: 0.8276, Accuracy: 7140/10000 (71.40%)\n",
            "\n",
            "EPOCH: 31\n"
          ],
          "name": "stdout"
        },
        {
          "output_type": "stream",
          "text": [
            "Loss=0.728308379650116 Batch_id=390 Accuracy=72.39: 100%|██████████| 391/391 [00:29<00:00, 13.44it/s]\n",
            "  0%|          | 0/391 [00:00<?, ?it/s]"
          ],
          "name": "stderr"
        },
        {
          "output_type": "stream",
          "text": [
            "\n",
            "Test set: Average loss: 0.8259, Accuracy: 7154/10000 (71.54%)\n",
            "\n",
            "EPOCH: 32\n"
          ],
          "name": "stdout"
        },
        {
          "output_type": "stream",
          "text": [
            "Loss=0.7512710690498352 Batch_id=390 Accuracy=72.24: 100%|██████████| 391/391 [00:29<00:00, 13.10it/s]\n",
            "  0%|          | 0/391 [00:00<?, ?it/s]"
          ],
          "name": "stderr"
        },
        {
          "output_type": "stream",
          "text": [
            "\n",
            "Test set: Average loss: 0.8279, Accuracy: 7126/10000 (71.26%)\n",
            "\n",
            "EPOCH: 33\n"
          ],
          "name": "stdout"
        },
        {
          "output_type": "stream",
          "text": [
            "Loss=0.7473751902580261 Batch_id=390 Accuracy=72.35: 100%|██████████| 391/391 [00:29<00:00, 13.29it/s]\n",
            "  0%|          | 0/391 [00:00<?, ?it/s]"
          ],
          "name": "stderr"
        },
        {
          "output_type": "stream",
          "text": [
            "\n",
            "Test set: Average loss: 0.8272, Accuracy: 7134/10000 (71.34%)\n",
            "\n",
            "EPOCH: 34\n"
          ],
          "name": "stdout"
        },
        {
          "output_type": "stream",
          "text": [
            "Loss=0.7685023546218872 Batch_id=390 Accuracy=72.49: 100%|██████████| 391/391 [00:29<00:00, 13.46it/s]\n",
            "  0%|          | 0/391 [00:00<?, ?it/s]"
          ],
          "name": "stderr"
        },
        {
          "output_type": "stream",
          "text": [
            "\n",
            "Test set: Average loss: 0.8269, Accuracy: 7149/10000 (71.49%)\n",
            "\n",
            "EPOCH: 35\n"
          ],
          "name": "stdout"
        },
        {
          "output_type": "stream",
          "text": [
            "Loss=0.9392372965812683 Batch_id=390 Accuracy=72.44: 100%|██████████| 391/391 [00:28<00:00, 14.64it/s]\n",
            "  0%|          | 0/391 [00:00<?, ?it/s]"
          ],
          "name": "stderr"
        },
        {
          "output_type": "stream",
          "text": [
            "\n",
            "Test set: Average loss: 0.8269, Accuracy: 7135/10000 (71.35%)\n",
            "\n",
            "EPOCH: 36\n"
          ],
          "name": "stdout"
        },
        {
          "output_type": "stream",
          "text": [
            "Loss=0.7575443983078003 Batch_id=390 Accuracy=72.48: 100%|██████████| 391/391 [00:28<00:00, 13.75it/s]\n",
            "  0%|          | 0/391 [00:00<?, ?it/s]"
          ],
          "name": "stderr"
        },
        {
          "output_type": "stream",
          "text": [
            "\n",
            "Test set: Average loss: 0.8276, Accuracy: 7127/10000 (71.27%)\n",
            "\n",
            "EPOCH: 37\n"
          ],
          "name": "stdout"
        },
        {
          "output_type": "stream",
          "text": [
            "Loss=0.9592100977897644 Batch_id=390 Accuracy=72.29: 100%|██████████| 391/391 [00:28<00:00, 13.72it/s]\n",
            "  0%|          | 0/391 [00:00<?, ?it/s]"
          ],
          "name": "stderr"
        },
        {
          "output_type": "stream",
          "text": [
            "\n",
            "Test set: Average loss: 0.8285, Accuracy: 7138/10000 (71.38%)\n",
            "\n",
            "EPOCH: 38\n"
          ],
          "name": "stdout"
        },
        {
          "output_type": "stream",
          "text": [
            "Loss=0.79067063331604 Batch_id=390 Accuracy=72.40: 100%|██████████| 391/391 [00:28<00:00, 13.74it/s]\n",
            "  0%|          | 0/391 [00:00<?, ?it/s]"
          ],
          "name": "stderr"
        },
        {
          "output_type": "stream",
          "text": [
            "\n",
            "Test set: Average loss: 0.8252, Accuracy: 7131/10000 (71.31%)\n",
            "\n",
            "EPOCH: 39\n"
          ],
          "name": "stdout"
        },
        {
          "output_type": "stream",
          "text": [
            "Loss=0.9800804257392883 Batch_id=390 Accuracy=72.36: 100%|██████████| 391/391 [00:28<00:00, 13.65it/s]\n",
            "  0%|          | 0/391 [00:00<?, ?it/s]"
          ],
          "name": "stderr"
        },
        {
          "output_type": "stream",
          "text": [
            "\n",
            "Test set: Average loss: 0.8287, Accuracy: 7135/10000 (71.35%)\n",
            "\n",
            "EPOCH: 40\n"
          ],
          "name": "stdout"
        },
        {
          "output_type": "stream",
          "text": [
            "Loss=0.897382915019989 Batch_id=390 Accuracy=72.28: 100%|██████████| 391/391 [00:28<00:00, 13.64it/s]\n",
            "  0%|          | 0/391 [00:00<?, ?it/s]"
          ],
          "name": "stderr"
        },
        {
          "output_type": "stream",
          "text": [
            "\n",
            "Test set: Average loss: 0.8276, Accuracy: 7164/10000 (71.64%)\n",
            "\n",
            "EPOCH: 41\n"
          ],
          "name": "stdout"
        },
        {
          "output_type": "stream",
          "text": [
            "Loss=0.8977624177932739 Batch_id=390 Accuracy=72.27: 100%|██████████| 391/391 [00:29<00:00, 15.19it/s]\n",
            "  0%|          | 0/391 [00:00<?, ?it/s]"
          ],
          "name": "stderr"
        },
        {
          "output_type": "stream",
          "text": [
            "\n",
            "Test set: Average loss: 0.8295, Accuracy: 7124/10000 (71.24%)\n",
            "\n",
            "EPOCH: 42\n"
          ],
          "name": "stdout"
        },
        {
          "output_type": "stream",
          "text": [
            "Loss=0.6660483479499817 Batch_id=390 Accuracy=72.40: 100%|██████████| 391/391 [00:29<00:00, 13.06it/s]\n",
            "  0%|          | 0/391 [00:00<?, ?it/s]"
          ],
          "name": "stderr"
        },
        {
          "output_type": "stream",
          "text": [
            "\n",
            "Test set: Average loss: 0.8273, Accuracy: 7144/10000 (71.44%)\n",
            "\n",
            "EPOCH: 43\n"
          ],
          "name": "stdout"
        },
        {
          "output_type": "stream",
          "text": [
            "Loss=0.8378208875656128 Batch_id=390 Accuracy=72.28: 100%|██████████| 391/391 [00:28<00:00, 15.17it/s]\n",
            "  0%|          | 0/391 [00:00<?, ?it/s]"
          ],
          "name": "stderr"
        },
        {
          "output_type": "stream",
          "text": [
            "\n",
            "Test set: Average loss: 0.8262, Accuracy: 7131/10000 (71.31%)\n",
            "\n",
            "EPOCH: 44\n"
          ],
          "name": "stdout"
        },
        {
          "output_type": "stream",
          "text": [
            "Loss=0.6553552746772766 Batch_id=390 Accuracy=72.16: 100%|██████████| 391/391 [00:28<00:00, 15.15it/s]\n",
            "  0%|          | 0/391 [00:00<?, ?it/s]"
          ],
          "name": "stderr"
        },
        {
          "output_type": "stream",
          "text": [
            "\n",
            "Test set: Average loss: 0.8287, Accuracy: 7127/10000 (71.27%)\n",
            "\n",
            "EPOCH: 45\n"
          ],
          "name": "stdout"
        },
        {
          "output_type": "stream",
          "text": [
            "Loss=0.6471098065376282 Batch_id=390 Accuracy=72.36: 100%|██████████| 391/391 [00:28<00:00, 13.54it/s]\n",
            "  0%|          | 0/391 [00:00<?, ?it/s]"
          ],
          "name": "stderr"
        },
        {
          "output_type": "stream",
          "text": [
            "\n",
            "Test set: Average loss: 0.8265, Accuracy: 7148/10000 (71.48%)\n",
            "\n",
            "EPOCH: 46\n"
          ],
          "name": "stdout"
        },
        {
          "output_type": "stream",
          "text": [
            "Loss=0.9318313598632812 Batch_id=390 Accuracy=72.40: 100%|██████████| 391/391 [00:28<00:00, 13.56it/s]\n",
            "  0%|          | 0/391 [00:00<?, ?it/s]"
          ],
          "name": "stderr"
        },
        {
          "output_type": "stream",
          "text": [
            "\n",
            "Test set: Average loss: 0.8282, Accuracy: 7132/10000 (71.32%)\n",
            "\n",
            "EPOCH: 47\n"
          ],
          "name": "stdout"
        },
        {
          "output_type": "stream",
          "text": [
            "Loss=0.7329064607620239 Batch_id=390 Accuracy=72.47: 100%|██████████| 391/391 [00:28<00:00, 13.73it/s]\n",
            "  0%|          | 0/391 [00:00<?, ?it/s]"
          ],
          "name": "stderr"
        },
        {
          "output_type": "stream",
          "text": [
            "\n",
            "Test set: Average loss: 0.8275, Accuracy: 7135/10000 (71.35%)\n",
            "\n",
            "EPOCH: 48\n"
          ],
          "name": "stdout"
        },
        {
          "output_type": "stream",
          "text": [
            "Loss=0.8206396102905273 Batch_id=390 Accuracy=72.71: 100%|██████████| 391/391 [00:28<00:00, 14.17it/s]\n",
            "  0%|          | 0/391 [00:00<?, ?it/s]"
          ],
          "name": "stderr"
        },
        {
          "output_type": "stream",
          "text": [
            "\n",
            "Test set: Average loss: 0.8266, Accuracy: 7157/10000 (71.57%)\n",
            "\n",
            "EPOCH: 49\n"
          ],
          "name": "stdout"
        },
        {
          "output_type": "stream",
          "text": [
            "Loss=0.7757326364517212 Batch_id=390 Accuracy=72.64: 100%|██████████| 391/391 [00:28<00:00, 13.65it/s]\n"
          ],
          "name": "stderr"
        },
        {
          "output_type": "stream",
          "text": [
            "\n",
            "Test set: Average loss: 0.8269, Accuracy: 7133/10000 (71.33%)\n",
            "\n",
            "Accuracy of plane : 86 %\n",
            "Accuracy of   car : 87 %\n",
            "Accuracy of  bird : 57 %\n",
            "Accuracy of   cat : 58 %\n",
            "Accuracy of  deer : 57 %\n",
            "Accuracy of   dog : 62 %\n",
            "Accuracy of  frog : 77 %\n",
            "Accuracy of horse : 71 %\n",
            "Accuracy of  ship : 89 %\n",
            "Accuracy of truck : 72 %\n"
          ],
          "name": "stdout"
        }
      ]
    }
  ]
}